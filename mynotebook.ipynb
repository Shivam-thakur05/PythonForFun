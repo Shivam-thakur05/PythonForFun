{
 "cells": [
  {
   "cell_type": "markdown",
   "metadata": {},
   "source": [
    "Dictionary Creation"
   ]
  },
  {
   "cell_type": "code",
   "execution_count": 2,
   "metadata": {},
   "outputs": [
    {
     "name": "stdout",
     "output_type": "stream",
     "text": [
      "The capital of USA is Washington, D.C.\n"
     ]
    }
   ],
   "source": [
    "# Define the Capital dictionary\n",
    "Capital = {\n",
    "    'USA': 'Washington, D.C.',\n",
    "    'Canada': 'Ottawa',\n",
    "    'UK': 'London'\n",
    "}\n",
    "\n",
    "# Print the capital of USA\n",
    "print('The capital of USA is', Capital.get('USA'))"
   ]
  },
  {
   "cell_type": "markdown",
   "metadata": {},
   "source": [
    "Numpy basic prob"
   ]
  },
  {
   "cell_type": "code",
   "execution_count": 1,
   "metadata": {},
   "outputs": [
    {
     "name": "stdout",
     "output_type": "stream",
     "text": [
      "[np.int64(4), np.int64(8), np.int64(144), np.int64(10)]\n"
     ]
    }
   ],
   "source": [
    "import numpy as np\n",
    "\n",
    "# Original list of numbers\n",
    "nums = [4, 11, 8, 15, 12, 7, 10]\n",
    "\n",
    "# Create a NumPy array from the list\n",
    "nums_array = np.array(nums)\n",
    "\n",
    "# Filter even numbers\n",
    "even_nums = nums_array[nums_array % 2 == 0]\n",
    "\n",
    "# Replace numbers greater than 10 with their square\n",
    "result = [x**2 if x > 10 else x for x in even_nums]\n",
    "\n",
    "print(result)"
   ]
  },
  {
   "cell_type": "markdown",
   "metadata": {},
   "source": [
    "Count Occurrences of a string"
   ]
  },
  {
   "cell_type": "code",
   "execution_count": 1,
   "metadata": {},
   "outputs": [
    {
     "name": "stdout",
     "output_type": "stream",
     "text": [
      "{'apple': 3, 'banana': 2, 'orange': 1}\n"
     ]
    }
   ],
   "source": [
    "def count_occurrences(strings):\n",
    "    occurrence_dict = {}\n",
    "    for string in strings:\n",
    "        if string in occurrence_dict:\n",
    "            occurrence_dict[string] += 1\n",
    "        else:\n",
    "            occurrence_dict[string] = 1\n",
    "    return occurrence_dict\n",
    "\n",
    "\n",
    "strings = [\"apple\", \"banana\", \"apple\", \"orange\", \"banana\", \"apple\"]\n",
    "result = count_occurrences(strings)\n",
    "print(result)  "
   ]
  },
  {
   "cell_type": "markdown",
   "metadata": {},
   "source": [
    "Quiz Game"
   ]
  },
  {
   "cell_type": "code",
   "execution_count": 1,
   "metadata": {},
   "outputs": [
    {
     "name": "stdout",
     "output_type": "stream",
     "text": [
      "Wrong! The correct answer was: Paris\n",
      "Wrong! The correct answer was: 4\n",
      "Wrong! The correct answer was: blue\n",
      "Wrong! The correct answer was: Harper Lee\n",
      "Your final score is: 0/4\n"
     ]
    }
   ],
   "source": [
    "quiz_dict = {\n",
    "    \"What is the capital of France?\": \"Paris\",\n",
    "    \"What is 2 + 2?\": \"4\",\n",
    "    \"What is the color of the sky on a clear day?\": \"blue\",\n",
    "    \"Who wrote 'To Kill a Mockingbird'?\": \"Harper Lee\",\n",
    "}\n",
    "\n",
    "# Initialize the score counter\n",
    "score = 0\n",
    "\n",
    "# Quiz loop\n",
    "for question, correct_answer in quiz_dict.items():\n",
    "    # Ask the question\n",
    "    user_answer = input(question + \" \")\n",
    "\n",
    "    # Check if the answer is correct (case insensitive)\n",
    "    if user_answer.strip().lower() == correct_answer.lower():\n",
    "        print(\"Correct!\")\n",
    "        score += 1\n",
    "    else:\n",
    "        print(f\"Wrong! The correct answer was: {correct_answer}\")\n",
    "\n",
    "# Display the final score\n",
    "print(f\"Your final score is: {score}/{len(quiz_dict)}\")"
   ]
  }
 ],
 "metadata": {
  "kernelspec": {
   "display_name": "Python 3",
   "language": "python",
   "name": "python3"
  },
  "language_info": {
   "codemirror_mode": {
    "name": "ipython",
    "version": 3
   },
   "file_extension": ".py",
   "mimetype": "text/x-python",
   "name": "python",
   "nbconvert_exporter": "python",
   "pygments_lexer": "ipython3",
   "version": "3.11.9"
  }
 },
 "nbformat": 4,
 "nbformat_minor": 2
}
